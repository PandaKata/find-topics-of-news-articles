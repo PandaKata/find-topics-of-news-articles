{
 "cells": [
  {
   "cell_type": "markdown",
   "metadata": {},
   "source": [
    "# Quick way to find topics of newspaper articles"
   ]
  },
  {
   "cell_type": "markdown",
   "metadata": {},
   "source": [
    "In the following, I would like to examine newspaper articles and find out what topic each one deals with. I will use term frequency and reverse document frequency (tf-idf) to analyse the content of each article and identify the terms that best describe each article and give a quick insight into the topic of each article.\n",
    "\n"
   ]
  },
  {
   "cell_type": "markdown",
   "metadata": {},
   "source": [
    "The dataset comes from [Kaggle](https://www.kaggle.com/datasets/asad1m9a9h6mood/news-articles) and has news articles from 2015 till september 2016 related to business and sports. It Contains the Heading of the particular Article, its content and its date. The content also contains the place from where the statement or Article was published."
   ]
  },
  {
   "cell_type": "markdown",
   "metadata": {},
   "source": [
    "Import necessary libraries:"
   ]
  },
  {
   "cell_type": "code",
   "execution_count": 1,
   "metadata": {},
   "outputs": [],
   "source": [
    "import nltk, re\n",
    "from nltk.corpus import wordnet\n",
    "from nltk.corpus import stopwords\n",
    "from nltk.tokenize import word_tokenize\n",
    "from nltk.stem import WordNetLemmatizer\n",
    "from collections import Counter\n",
    "import pandas as pd \n",
    "import numpy as np\n",
    "from sklearn.feature_extraction.text import CountVectorizer, TfidfTransformer, TfidfVectorizer"
   ]
  },
  {
   "cell_type": "markdown",
   "metadata": {},
   "source": [
    "Read the data in a pandas dataframe:"
   ]
  },
  {
   "cell_type": "code",
   "execution_count": 2,
   "metadata": {},
   "outputs": [],
   "source": [
    "df = pd.read_csv('Articles.csv', encoding = 'unicode_escape')"
   ]
  },
  {
   "cell_type": "markdown",
   "metadata": {},
   "source": [
    "Look at first five rows of the df, inspect the data:"
   ]
  },
  {
   "cell_type": "code",
   "execution_count": 3,
   "metadata": {},
   "outputs": [
    {
     "data": {
      "text/html": [
       "<div>\n",
       "<style scoped>\n",
       "    .dataframe tbody tr th:only-of-type {\n",
       "        vertical-align: middle;\n",
       "    }\n",
       "\n",
       "    .dataframe tbody tr th {\n",
       "        vertical-align: top;\n",
       "    }\n",
       "\n",
       "    .dataframe thead th {\n",
       "        text-align: right;\n",
       "    }\n",
       "</style>\n",
       "<table border=\"1\" class=\"dataframe\">\n",
       "  <thead>\n",
       "    <tr style=\"text-align: right;\">\n",
       "      <th></th>\n",
       "      <th>Article</th>\n",
       "      <th>Date</th>\n",
       "      <th>Heading</th>\n",
       "      <th>NewsType</th>\n",
       "    </tr>\n",
       "  </thead>\n",
       "  <tbody>\n",
       "    <tr>\n",
       "      <th>0</th>\n",
       "      <td>KARACHI: The Sindh government has decided to b...</td>\n",
       "      <td>1/1/2015</td>\n",
       "      <td>sindh govt decides to cut public transport far...</td>\n",
       "      <td>business</td>\n",
       "    </tr>\n",
       "    <tr>\n",
       "      <th>1</th>\n",
       "      <td>HONG KONG: Asian markets started 2015 on an up...</td>\n",
       "      <td>1/2/2015</td>\n",
       "      <td>asia stocks up in new year trad</td>\n",
       "      <td>business</td>\n",
       "    </tr>\n",
       "    <tr>\n",
       "      <th>2</th>\n",
       "      <td>HONG KONG:  Hong Kong shares opened 0.66 perce...</td>\n",
       "      <td>1/5/2015</td>\n",
       "      <td>hong kong stocks open 0.66 percent lower</td>\n",
       "      <td>business</td>\n",
       "    </tr>\n",
       "    <tr>\n",
       "      <th>3</th>\n",
       "      <td>HONG KONG: Asian markets tumbled Tuesday follo...</td>\n",
       "      <td>1/6/2015</td>\n",
       "      <td>asian stocks sink euro near nine year</td>\n",
       "      <td>business</td>\n",
       "    </tr>\n",
       "    <tr>\n",
       "      <th>4</th>\n",
       "      <td>NEW YORK: US oil prices Monday slipped below $...</td>\n",
       "      <td>1/6/2015</td>\n",
       "      <td>us oil prices slip below 50 a barr</td>\n",
       "      <td>business</td>\n",
       "    </tr>\n",
       "  </tbody>\n",
       "</table>\n",
       "</div>"
      ],
      "text/plain": [
       "                                             Article      Date  \\\n",
       "0  KARACHI: The Sindh government has decided to b...  1/1/2015   \n",
       "1  HONG KONG: Asian markets started 2015 on an up...  1/2/2015   \n",
       "2  HONG KONG:  Hong Kong shares opened 0.66 perce...  1/5/2015   \n",
       "3  HONG KONG: Asian markets tumbled Tuesday follo...  1/6/2015   \n",
       "4  NEW YORK: US oil prices Monday slipped below $...  1/6/2015   \n",
       "\n",
       "                                             Heading  NewsType  \n",
       "0  sindh govt decides to cut public transport far...  business  \n",
       "1                    asia stocks up in new year trad  business  \n",
       "2           hong kong stocks open 0.66 percent lower  business  \n",
       "3             asian stocks sink euro near nine year   business  \n",
       "4                 us oil prices slip below 50 a barr  business  "
      ]
     },
     "execution_count": 3,
     "metadata": {},
     "output_type": "execute_result"
    }
   ],
   "source": [
    "df.head()"
   ]
  },
  {
   "cell_type": "code",
   "execution_count": 4,
   "metadata": {},
   "outputs": [
    {
     "data": {
      "text/plain": [
       "(2692, 4)"
      ]
     },
     "execution_count": 4,
     "metadata": {},
     "output_type": "execute_result"
    }
   ],
   "source": [
    "df.shape"
   ]
  },
  {
   "cell_type": "code",
   "execution_count": 5,
   "metadata": {},
   "outputs": [
    {
     "data": {
      "text/html": [
       "<div>\n",
       "<style scoped>\n",
       "    .dataframe tbody tr th:only-of-type {\n",
       "        vertical-align: middle;\n",
       "    }\n",
       "\n",
       "    .dataframe tbody tr th {\n",
       "        vertical-align: top;\n",
       "    }\n",
       "\n",
       "    .dataframe thead th {\n",
       "        text-align: right;\n",
       "    }\n",
       "</style>\n",
       "<table border=\"1\" class=\"dataframe\">\n",
       "  <thead>\n",
       "    <tr style=\"text-align: right;\">\n",
       "      <th></th>\n",
       "      <th>Article</th>\n",
       "      <th>Date</th>\n",
       "      <th>Heading</th>\n",
       "      <th>NewsType</th>\n",
       "    </tr>\n",
       "  </thead>\n",
       "  <tbody>\n",
       "    <tr>\n",
       "      <th>count</th>\n",
       "      <td>2692</td>\n",
       "      <td>2692</td>\n",
       "      <td>2692</td>\n",
       "      <td>2692</td>\n",
       "    </tr>\n",
       "    <tr>\n",
       "      <th>unique</th>\n",
       "      <td>2584</td>\n",
       "      <td>666</td>\n",
       "      <td>2581</td>\n",
       "      <td>2</td>\n",
       "    </tr>\n",
       "    <tr>\n",
       "      <th>top</th>\n",
       "      <td>strong&gt;ISLAMABAD: The International Monetary F...</td>\n",
       "      <td>8/1/2016</td>\n",
       "      <td>Tokyo stocks rise in early trade on weaker yen...</td>\n",
       "      <td>sports</td>\n",
       "    </tr>\n",
       "    <tr>\n",
       "      <th>freq</th>\n",
       "      <td>5</td>\n",
       "      <td>27</td>\n",
       "      <td>5</td>\n",
       "      <td>1408</td>\n",
       "    </tr>\n",
       "  </tbody>\n",
       "</table>\n",
       "</div>"
      ],
      "text/plain": [
       "                                                  Article      Date  \\\n",
       "count                                                2692      2692   \n",
       "unique                                               2584       666   \n",
       "top     strong>ISLAMABAD: The International Monetary F...  8/1/2016   \n",
       "freq                                                    5        27   \n",
       "\n",
       "                                                  Heading NewsType  \n",
       "count                                                2692     2692  \n",
       "unique                                               2581        2  \n",
       "top     Tokyo stocks rise in early trade on weaker yen...   sports  \n",
       "freq                                                    5     1408  "
      ]
     },
     "execution_count": 5,
     "metadata": {},
     "output_type": "execute_result"
    }
   ],
   "source": [
    "df.describe()"
   ]
  },
  {
   "cell_type": "markdown",
   "metadata": {},
   "source": [
    "### Preprocess article data"
   ]
  },
  {
   "cell_type": "markdown",
   "metadata": {},
   "source": [
    "In order to tokenize and lemmatize the article data we write a function. We are also removing stopwords: "
   ]
  },
  {
   "cell_type": "code",
   "execution_count": 6,
   "metadata": {},
   "outputs": [],
   "source": [
    "stop_words = stopwords.words('english')\n",
    "normalizer = WordNetLemmatizer()"
   ]
  },
  {
   "cell_type": "code",
   "execution_count": 7,
   "metadata": {},
   "outputs": [],
   "source": [
    "def get_part_of_speech(word):\n",
    "    probable_part_of_speech = wordnet.synsets(word)\n",
    "    pos_counts = Counter()\n",
    "    pos_counts[\"n\"] = len(  [ item for item in probable_part_of_speech if item.pos()==\"n\"]  )\n",
    "    pos_counts[\"v\"] = len(  [ item for item in probable_part_of_speech if item.pos()==\"v\"]  )\n",
    "    pos_counts[\"a\"] = len(  [ item for item in probable_part_of_speech if item.pos()==\"a\"]  )\n",
    "    pos_counts[\"r\"] = len(  [ item for item in probable_part_of_speech if item.pos()==\"r\"]  )\n",
    "    most_likely_part_of_speech = pos_counts.most_common(1)[0][0]\n",
    "    return most_likely_part_of_speech"
   ]
  },
  {
   "cell_type": "code",
   "execution_count": 8,
   "metadata": {},
   "outputs": [],
   "source": [
    "def preprocess_text(text):\n",
    "    cleaned = re.sub(r'\\W+', ' ', text).lower()\n",
    "    tokenized = word_tokenize(cleaned)\n",
    "    normalized = \" \".join([normalizer.lemmatize(token, get_part_of_speech(token)) for token in tokenized if not re.match(r'\\d+',token)])\n",
    "    return normalized"
   ]
  },
  {
   "cell_type": "markdown",
   "metadata": {},
   "source": [
    "Convert articles to list of articles:"
   ]
  },
  {
   "cell_type": "code",
   "execution_count": 9,
   "metadata": {},
   "outputs": [],
   "source": [
    "articles = df.Article.tolist()"
   ]
  },
  {
   "cell_type": "markdown",
   "metadata": {},
   "source": [
    "Apply the pre-processing function:"
   ]
  },
  {
   "cell_type": "code",
   "execution_count": 10,
   "metadata": {},
   "outputs": [],
   "source": [
    "processed_articles = [preprocess_text(article) for article in articles]"
   ]
  },
  {
   "cell_type": "markdown",
   "metadata": {},
   "source": [
    "Print the original and the processed first article to see the difference:"
   ]
  },
  {
   "cell_type": "code",
   "execution_count": 11,
   "metadata": {},
   "outputs": [
    {
     "data": {
      "text/plain": [
       "'KARACHI: The Sindh government has decided to bring down public transport fares by 7 per cent due to massive reduction in petroleum product prices by the federal government, Geo News reported.Sources said reduction in fares will be applicable on public transport, rickshaw, taxi and other means of traveling.Meanwhile, Karachi Transport Ittehad (KTI) has refused to abide by the government decision.KTI President Irshad Bukhari said the commuters are charged the lowest fares in Karachi as compare to other parts of the country, adding that 80pc vehicles run on Compressed Natural Gas (CNG). Bukhari said Karachi transporters will cut fares when decrease in CNG prices will be made.                        \\r\\n\\r\\n\\r\\n\\r\\n\\r\\n\\r\\n\\r\\n\\r\\n\\r\\n\\r\\n\\r\\n'"
      ]
     },
     "execution_count": 11,
     "metadata": {},
     "output_type": "execute_result"
    }
   ],
   "source": [
    "articles[0]"
   ]
  },
  {
   "cell_type": "code",
   "execution_count": 12,
   "metadata": {},
   "outputs": [
    {
     "data": {
      "text/plain": [
       "'karachi the sindh government have decide to bring down public transport fare by per cent due to massive reduction in petroleum product price by the federal government geo news report source say reduction in fare will be applicable on public transport rickshaw taxi and other mean of travel meanwhile karachi transport ittehad kti have refuse to abide by the government decision kti president irshad bukhari say the commuter be charge the low fare in karachi a compare to other part of the country add that vehicle run on compress natural gas cng bukhari say karachi transporter will cut fare when decrease in cng price will be make'"
      ]
     },
     "execution_count": 12,
     "metadata": {},
     "output_type": "execute_result"
    }
   ],
   "source": [
    "processed_articles[0]"
   ]
  },
  {
   "cell_type": "markdown",
   "metadata": {},
   "source": [
    "### Calculate Tf-idf Scores\n"
   ]
  },
  {
   "cell_type": "markdown",
   "metadata": {},
   "source": [
    "Initialize and fit CountVectorizer:"
   ]
  },
  {
   "cell_type": "code",
   "execution_count": 13,
   "metadata": {},
   "outputs": [],
   "source": [
    "vectorizer = CountVectorizer()\n",
    "counts = vectorizer.fit_transform(processed_articles)"
   ]
  },
  {
   "cell_type": "markdown",
   "metadata": {},
   "source": [
    "Transform word counts for each article into tf-idf scores:"
   ]
  },
  {
   "cell_type": "code",
   "execution_count": 14,
   "metadata": {},
   "outputs": [],
   "source": [
    "transformer = TfidfTransformer(norm=None)\n",
    "tfidf_scores_transformed = transformer.fit_transform(counts)"
   ]
  },
  {
   "cell_type": "markdown",
   "metadata": {},
   "source": [
    "Now we want to confirm if TfidfTransformer gives the same results as TfidfVectorizer:"
   ]
  },
  {
   "cell_type": "code",
   "execution_count": 15,
   "metadata": {},
   "outputs": [],
   "source": [
    "vectorizer = TfidfVectorizer(norm=None)\n",
    "tfidf_scores = vectorizer.fit_transform(processed_articles)"
   ]
  },
  {
   "cell_type": "code",
   "execution_count": 16,
   "metadata": {},
   "outputs": [
    {
     "name": "stdout",
     "output_type": "stream",
     "text": [
      "  Are the tf-idf scores the same?\n",
      "0                             YES\n"
     ]
    }
   ],
   "source": [
    "# checks is scores are equal:\n",
    "if np.allclose(tfidf_scores_transformed.todense(), tfidf_scores.todense()):\n",
    "    print(pd.DataFrame({'Are the tf-idf scores the same?':['YES']}))\n",
    "else:\n",
    "    print(pd.DataFrame({'Are the tf-idf scores the same?':['No, something is wrong :(']}))"
   ]
  },
  {
   "cell_type": "markdown",
   "metadata": {},
   "source": [
    "### Find the highest-scoring tf-idf item"
   ]
  },
  {
   "cell_type": "markdown",
   "metadata": {},
   "source": [
    "An easy way to find the general topic about an article.\n"
   ]
  },
  {
   "cell_type": "markdown",
   "metadata": {},
   "source": [
    "We want to transform the scipy matrices to pandas dataframes to get a general idea about the data:"
   ]
  },
  {
   "cell_type": "code",
   "execution_count": 17,
   "metadata": {},
   "outputs": [],
   "source": [
    "# get vocabulary of terms\n",
    "try:\n",
    "    feature_names = vectorizer.get_feature_names()\n",
    "except:\n",
    "    pass"
   ]
  },
  {
   "cell_type": "code",
   "execution_count": 18,
   "metadata": {},
   "outputs": [],
   "source": [
    "# get article index\n",
    "try:\n",
    "    article_index = [f\"Article {i+1}\" for i in range(len(articles))]\n",
    "except:\n",
    "    pass"
   ]
  },
  {
   "cell_type": "code",
   "execution_count": 19,
   "metadata": {},
   "outputs": [
    {
     "name": "stdout",
     "output_type": "stream",
     "text": [
      "              Article 1  Article 2  Article 3  Article 4  Article 5  \\\n",
      "__cf_email__        0.0        0.0        0.0        0.0        0.0   \n",
      "a300                0.0        0.0        0.0        0.0        0.0   \n",
      "a320                0.0        0.0        0.0        0.0        0.0   \n",
      "a321                0.0        0.0        0.0        0.0        0.0   \n",
      "a330                0.0        0.0        0.0        0.0        0.0   \n",
      "\n",
      "              Article 6  Article 7  Article 8  Article 9  Article 10  ...  \\\n",
      "__cf_email__        0.0        0.0        0.0        0.0         0.0  ...   \n",
      "a300                0.0        0.0        0.0        0.0         0.0  ...   \n",
      "a320                0.0        0.0        0.0        0.0         0.0  ...   \n",
      "a321                0.0        0.0        0.0        0.0         0.0  ...   \n",
      "a330                0.0        0.0        0.0        0.0         0.0  ...   \n",
      "\n",
      "              Article 2683  Article 2684  Article 2685  Article 2686  \\\n",
      "__cf_email__           0.0           0.0           0.0           0.0   \n",
      "a300                   0.0           0.0           0.0           0.0   \n",
      "a320                   0.0           0.0           0.0           0.0   \n",
      "a321                   0.0           0.0           0.0           0.0   \n",
      "a330                   0.0           0.0           0.0           0.0   \n",
      "\n",
      "              Article 2687  Article 2688  Article 2689  Article 2690  \\\n",
      "__cf_email__           0.0           0.0           0.0           0.0   \n",
      "a300                   0.0           0.0           0.0           0.0   \n",
      "a320                   0.0           0.0           0.0           0.0   \n",
      "a321                   0.0           0.0           0.0           0.0   \n",
      "a330                   0.0           0.0           0.0           0.0   \n",
      "\n",
      "              Article 2691  Article 2692  \n",
      "__cf_email__           0.0           0.0  \n",
      "a300                   0.0           0.0  \n",
      "a320                   0.0           0.0  \n",
      "a321                   0.0           0.0  \n",
      "a330                   0.0           0.0  \n",
      "\n",
      "[5 rows x 2692 columns]\n",
      "              Article 1  Article 2  Article 3  Article 4  Article 5  \\\n",
      "__cf_email__        0.0        0.0        0.0        0.0        0.0   \n",
      "a300                0.0        0.0        0.0        0.0        0.0   \n",
      "a320                0.0        0.0        0.0        0.0        0.0   \n",
      "a321                0.0        0.0        0.0        0.0        0.0   \n",
      "a330                0.0        0.0        0.0        0.0        0.0   \n",
      "\n",
      "              Article 6  Article 7  Article 8  Article 9  Article 10  ...  \\\n",
      "__cf_email__        0.0        0.0        0.0        0.0         0.0  ...   \n",
      "a300                0.0        0.0        0.0        0.0         0.0  ...   \n",
      "a320                0.0        0.0        0.0        0.0         0.0  ...   \n",
      "a321                0.0        0.0        0.0        0.0         0.0  ...   \n",
      "a330                0.0        0.0        0.0        0.0         0.0  ...   \n",
      "\n",
      "              Article 2683  Article 2684  Article 2685  Article 2686  \\\n",
      "__cf_email__           0.0           0.0           0.0           0.0   \n",
      "a300                   0.0           0.0           0.0           0.0   \n",
      "a320                   0.0           0.0           0.0           0.0   \n",
      "a321                   0.0           0.0           0.0           0.0   \n",
      "a330                   0.0           0.0           0.0           0.0   \n",
      "\n",
      "              Article 2687  Article 2688  Article 2689  Article 2690  \\\n",
      "__cf_email__           0.0           0.0           0.0           0.0   \n",
      "a300                   0.0           0.0           0.0           0.0   \n",
      "a320                   0.0           0.0           0.0           0.0   \n",
      "a321                   0.0           0.0           0.0           0.0   \n",
      "a330                   0.0           0.0           0.0           0.0   \n",
      "\n",
      "              Article 2691  Article 2692  \n",
      "__cf_email__           0.0           0.0  \n",
      "a300                   0.0           0.0  \n",
      "a320                   0.0           0.0  \n",
      "a321                   0.0           0.0  \n",
      "a330                   0.0           0.0  \n",
      "\n",
      "[5 rows x 2692 columns]\n"
     ]
    }
   ],
   "source": [
    "# create pandas DataFrame(s) with tf-idf scores\n",
    "try:\n",
    "    df_tf_idf = pd.DataFrame(tfidf_scores_transformed.T.todense(), index=feature_names, columns=article_index)\n",
    "    print(df_tf_idf.head())\n",
    "except: \n",
    "    pass\n",
    "\n",
    "try:\n",
    "    df_tf_idf = pd.DataFrame(tfidf_scores.T.todense(), index=feature_names, columns=article_index)\n",
    "    print(df_tf_idf.head())\n",
    "except:\n",
    "    pass"
   ]
  },
  {
   "cell_type": "code",
   "execution_count": 20,
   "metadata": {},
   "outputs": [
    {
     "name": "stdout",
     "output_type": "stream",
     "text": [
      "Article 1    fare\n",
      "dtype: object\n",
      "Article 2    percent\n",
      "dtype: object\n",
      "Article 3    hong\n",
      "dtype: object\n",
      "Article 4    the\n",
      "dtype: object\n",
      "Article 5    oil\n",
      "dtype: object\n",
      "Article 6    arabia\n",
      "dtype: object\n",
      "Article 7    kse\n",
      "dtype: object\n",
      "Article 8    ang\n",
      "dtype: object\n",
      "Article 9    sugar\n",
      "dtype: object\n"
     ]
    }
   ],
   "source": [
    "# get highest scoring tf-idf term for each article\n",
    "for num in range(1, 10):\n",
    "    print(df_tf_idf[[f'Article {num}']].idxmax())\n"
   ]
  },
  {
   "cell_type": "code",
   "execution_count": null,
   "metadata": {},
   "outputs": [],
   "source": []
  }
 ],
 "metadata": {
  "kernelspec": {
   "display_name": "Python 3",
   "language": "python",
   "name": "python3"
  },
  "language_info": {
   "codemirror_mode": {
    "name": "ipython",
    "version": 3
   },
   "file_extension": ".py",
   "mimetype": "text/x-python",
   "name": "python",
   "nbconvert_exporter": "python",
   "pygments_lexer": "ipython3",
   "version": "3.8.5"
  }
 },
 "nbformat": 4,
 "nbformat_minor": 4
}
